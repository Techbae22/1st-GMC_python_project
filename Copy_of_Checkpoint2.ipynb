{
  "nbformat": 4,
  "nbformat_minor": 0,
  "metadata": {
    "colab": {
      "name": "Copy of Checkpoint2.ipynb",
      "provenance": [],
      "authorship_tag": "ABX9TyMDEg3HKw6N3Sd7SYx3Iqau",
      "include_colab_link": true
    },
    "kernelspec": {
      "name": "python3",
      "display_name": "Python 3"
    },
    "language_info": {
      "name": "python"
    }
  },
  "cells": [
    {
      "cell_type": "markdown",
      "metadata": {
        "id": "view-in-github",
        "colab_type": "text"
      },
      "source": [
        "<a href=\"https://colab.research.google.com/github/Techbae22/1st-GMC_python_project/blob/main/Copy_of_Checkpoint2.ipynb\" target=\"_parent\"><img src=\"https://colab.research.google.com/assets/colab-badge.svg\" alt=\"Open In Colab\"/></a>"
      ]
    },
    {
      "cell_type": "code",
      "source": [
        "lst = [i for i in range(2000, 3201) if i % 7 == 0 if i % 5 != 0] \n",
        "print(lst)"
      ],
      "metadata": {
        "colab": {
          "base_uri": "https://localhost:8080/"
        },
        "id": "-8ngekIE0l_D",
        "outputId": "4511c6b9-f105-4780-f6ca-88e7685fa69e"
      },
      "execution_count": null,
      "outputs": [
        {
          "output_type": "stream",
          "name": "stdout",
          "text": [
            "[2002, 2009, 2016, 2023, 2037, 2044, 2051, 2058, 2072, 2079, 2086, 2093, 2107, 2114, 2121, 2128, 2142, 2149, 2156, 2163, 2177, 2184, 2191, 2198, 2212, 2219, 2226, 2233, 2247, 2254, 2261, 2268, 2282, 2289, 2296, 2303, 2317, 2324, 2331, 2338, 2352, 2359, 2366, 2373, 2387, 2394, 2401, 2408, 2422, 2429, 2436, 2443, 2457, 2464, 2471, 2478, 2492, 2499, 2506, 2513, 2527, 2534, 2541, 2548, 2562, 2569, 2576, 2583, 2597, 2604, 2611, 2618, 2632, 2639, 2646, 2653, 2667, 2674, 2681, 2688, 2702, 2709, 2716, 2723, 2737, 2744, 2751, 2758, 2772, 2779, 2786, 2793, 2807, 2814, 2821, 2828, 2842, 2849, 2856, 2863, 2877, 2884, 2891, 2898, 2912, 2919, 2926, 2933, 2947, 2954, 2961, 2968, 2982, 2989, 2996, 3003, 3017, 3024, 3031, 3038, 3052, 3059, 3066, 3073, 3087, 3094, 3101, 3108, 3122, 3129, 3136, 3143, 3157, 3164, 3171, 3178, 3192, 3199]\n"
          ]
        }
      ]
    },
    {
      "cell_type": "code",
      "source": [
        "def factorial(n):\n",
        "    if n == 0:\n",
        "        return 1\n",
        "    return n * factorial(n-1)\n",
        "num = 7;\n",
        "print(\"Factorial of\", num, \"is\",\n",
        "factorial(num))"
      ],
      "metadata": {
        "colab": {
          "base_uri": "https://localhost:8080/"
        },
        "id": "gPLbXS1v3wt-",
        "outputId": "bafff2e0-8d3d-4e9d-83e5-4bc2b532f198"
      },
      "execution_count": null,
      "outputs": [
        {
          "output_type": "stream",
          "name": "stdout",
          "text": [
            "Factorial of 7 is 5040\n"
          ]
        }
      ]
    },
    {
      "cell_type": "code",
      "source": [
        "number = int(input(\"9: \"))\n",
        "\n",
        "numberDict = {}\n",
        "for i in range(1, number+1):\n",
        "    numberDict[i] = i*i\n",
        "\n",
        "print(numberDict)"
      ],
      "metadata": {
        "id": "wDezwyaKc6jC",
        "colab": {
          "base_uri": "https://localhost:8080/"
        },
        "outputId": "a1f86afa-f29f-46f2-db1a-4ff8ba63c2e7"
      },
      "execution_count": null,
      "outputs": [
        {
          "output_type": "stream",
          "name": "stdout",
          "text": [
            "9: 10\n",
            "{1: 1, 2: 4, 3: 9, 4: 16, 5: 25, 6: 36, 7: 49, 8: 64, 9: 81, 10: 100}\n"
          ]
        }
      ]
    },
    {
      "cell_type": "code",
      "source": [
        "def missing_char(word, index):\n",
        "    if len(word) > index:\n",
        "        word = word[0 : index : ] + word[index + 1 : :]\n",
        "        return word\n",
        "    else:\n",
        "        return \"invalid index\"\n",
        "\n",
        "print(missing_char('kitchen', 1))"
      ],
      "metadata": {
        "colab": {
          "base_uri": "https://localhost:8080/"
        },
        "id": "vOAqyQ6XBLqR",
        "outputId": "52fcff13-2f14-436b-8932-d6d42637d7ce"
      },
      "execution_count": null,
      "outputs": [
        {
          "output_type": "stream",
          "name": "stdout",
          "text": [
            "ktchen\n"
          ]
        }
      ]
    },
    {
      "cell_type": "code",
      "source": [
        "import numpy as np\n",
        "x= np.arange(6).reshape(3, 2)\n",
        "print(\"Original array elements:\")\n",
        "print(x)\n",
        "print(\"Array to list:\")\n",
        "print(x.tolist())"
      ],
      "metadata": {
        "colab": {
          "base_uri": "https://localhost:8080/"
        },
        "id": "GL00_JFVBahp",
        "outputId": "c80a67fb-8533-4a6c-a925-8f365a4a9bf6"
      },
      "execution_count": null,
      "outputs": [
        {
          "output_type": "stream",
          "name": "stdout",
          "text": [
            "Original array elements:\n",
            "[[0 1]\n",
            " [2 3]\n",
            " [4 5]]\n",
            "Array to list:\n",
            "[[0, 1], [2, 3], [4, 5]]\n"
          ]
        }
      ]
    },
    {
      "cell_type": "code",
      "source": [
        "import numpy as np\n",
        "x = np.array([0, 1, 2])\n",
        "y = np.array([2, 1, 0])\n",
        "print(\"\\nOriginal array1:\")\n",
        "print(x)\n",
        "print(\"\\nOriginal array1:\")\n",
        "print(y)\n",
        "print(\"\\nCovariance matrix of the said arrays:\\n\",np.cov(x, y))"
      ],
      "metadata": {
        "colab": {
          "base_uri": "https://localhost:8080/"
        },
        "id": "K6sezmfjNKr9",
        "outputId": "46a7641f-f22d-4a9f-afdb-27adfe2d2455"
      },
      "execution_count": null,
      "outputs": [
        {
          "output_type": "stream",
          "name": "stdout",
          "text": [
            "\n",
            "Original array1:\n",
            "[0 1 2]\n",
            "\n",
            "Original array1:\n",
            "[2 1 0]\n",
            "\n",
            "Covariance matrix of the said arrays:\n",
            " [[ 1. -1.]\n",
            " [-1.  1.]]\n"
          ]
        }
      ]
    },
    {
      "cell_type": "code",
      "source": [
        "import math\n",
        "c=50\n",
        "h=30\n",
        "value = []\n",
        "items=[x for x in input().split(',')]\n",
        "for d in items:\n",
        "    value.append(str(int(round(math.sqrt(2*c*float(d)/h)))))\n",
        "\n",
        "print(','.join(value))"
      ],
      "metadata": {
        "colab": {
          "base_uri": "https://localhost:8080/"
        },
        "id": "lpdMOLtijDdi",
        "outputId": "4ab21f42-c80f-49f6-e604-261d15c76a58"
      },
      "execution_count": null,
      "outputs": [
        {
          "output_type": "stream",
          "name": "stdout",
          "text": [
            "2, 4, 6\n",
            "3,4,4\n"
          ]
        }
      ]
    }
  ]
}